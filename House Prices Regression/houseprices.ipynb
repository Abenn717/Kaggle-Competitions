{
  "nbformat": 4,
  "nbformat_minor": 0,
  "metadata": {
    "colab": {
      "provenance": []
    },
    "kernelspec": {
      "name": "python3",
      "display_name": "Python 3"
    },
    "language_info": {
      "name": "python"
    }
  },
  "cells": [
    {
      "cell_type": "code",
      "execution_count": null,
      "metadata": {
        "id": "7dN_s2vVlHmF"
      },
      "outputs": [],
      "source": [
        "import pandas as pd\n",
        "from sklearn.preprocessing import OneHotEncoder\n",
        "from sklearn.model_selection import train_test_split\n",
        "from sklearn.compose import make_column_transformer\n",
        "from sklearn.pipeline import make_pipeline\n",
        "from sklearn.linear_model import LinearRegression\n",
        "from sklearn.ensemble import RandomForestRegressor\n",
        "from sklearn import metrics\n",
        "import numpy as np\n"
      ]
    },
    {
      "cell_type": "code",
      "source": [
        "df = pd.read_csv('/content/drive/MyDrive/Machine Learning 2023/Data/Housepricestrain.csv')\n",
        "pd.set_option('display.max_columns', None)"
      ],
      "metadata": {
        "id": "6yVs3hTomeBo"
      },
      "execution_count": null,
      "outputs": []
    },
    {
      "cell_type": "code",
      "source": [
        "\n",
        "features = ['LotFrontage', 'LotArea', 'OverallQual',\n",
        "       'OverallCond', 'YearBuilt', 'YearRemodAdd', 'MasVnrArea', 'BsmtFinSF1',\n",
        "       'TotalBsmtSF', '1stFlrSF', '2ndFlrSF', 'GrLivArea', 'FullBath',\n",
        "       'BedroomAbvGr', 'TotRmsAbvGrd', 'Fireplaces', 'GarageCars', 'GarageArea', 'WoodDeckSF',\n",
        "       'OpenPorchSF', 'EnclosedPorch', 'ScreenPorch']\n",
        "df2 = df.fillna(value=0)\n",
        "X = df2[features]\n",
        "y = df2['SalePrice']\n",
        "X_train, X_test, y_train, y_test = train_test_split(X, y, random_state=1)\n",
        "\n"
      ],
      "metadata": {
        "id": "cpudThl0mhHN"
      },
      "execution_count": null,
      "outputs": []
    },
    {
      "cell_type": "code",
      "source": [
        "rf = RandomForestRegressor()\n",
        "\n",
        "rf.fit(X_train, y_train)\n",
        "y_pred2 = rf.predict(X_test)\n",
        "\n",
        "print(np.sqrt(metrics.mean_squared_error(y_test, y_pred2)))"
      ],
      "metadata": {
        "id": "WJJF6CpCml42",
        "colab": {
          "base_uri": "https://localhost:8080/"
        },
        "outputId": "6333904a-8117-43ee-825e-95e2f862278d"
      },
      "execution_count": null,
      "outputs": [
        {
          "output_type": "stream",
          "name": "stdout",
          "text": [
            "25264.53133313107\n"
          ]
        }
      ]
    },
    {
      "cell_type": "code",
      "source": [
        "df_new = pd.read_csv('/content/drive/MyDrive/Machine Learning 2023/Data/Housepricestest.csv')\n",
        "df3 = df_new.fillna(value=0)\n",
        "X_new = df3[features]\n",
        "\n",
        "rf.fit(X,y)\n",
        "y_res = rf.predict(X_new)\n",
        "\n",
        "res = pd.DataFrame({'Id': df3['Id'], 'SalePrice':y_res})\n",
        "res.to_csv('/content/drive/MyDrive/Machine Learning 2023/House_result.csv', index=False)"
      ],
      "metadata": {
        "id": "V1RgjqRjmpU2"
      },
      "execution_count": null,
      "outputs": []
    }
  ]
}